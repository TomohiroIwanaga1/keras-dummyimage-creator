{
 "cells": [
  {
   "cell_type": "code",
   "execution_count": 1,
   "metadata": {},
   "outputs": [
    {
     "name": "stderr",
     "output_type": "stream",
     "text": [
      "Using TensorFlow backend.\n"
     ]
    }
   ],
   "source": [
    "import glob\n",
    "import os\n",
    "import numpy as np\n",
    "import keras\n",
    "from keras.preprocessing.image import ImageDataGenerator, img_to_array, load_img\n",
    "\n",
    "\n",
    "def create_new_directory(dirname):\n",
    "    if(not(os.path.exists(dirname))):\n",
    "        os.mkdir(dirname)\n",
    "    \n",
    "def draw_images(generator, x, output_dir, index):\n",
    "    save_name = 'dummy_{}_'.format(index)\n",
    "    create_new_directory(output_dir)\n",
    "    g = generator.flow(x, batch_size=1, save_to_dir=output_dir, save_prefix=save_name, save_format='jpg')\n",
    "\n",
    "    for i in range(10):\n",
    "        bach = g.next()\n",
    "    \n",
    "def create_dummy_images(generator, image_arr, output_root, image_label):\n",
    "    for i in range(len(image_arr)):\n",
    "        img = load_img(image_arr[i])\n",
    "        x = img_to_array(img)\n",
    "        x = np.expand_dims(x, axis=0)\n",
    "        draw_images(generator, x, output_root + image_label, i)\n",
    "\n",
    "# 水増し画像の出力ディレクトリ\n",
    "output_dir_root = 'new_images/'\n",
    "create_new_directory(output_dir_root)\n",
    "\n",
    "# 手動で集めてきた画像たちの読み込み\n",
    "#画像1\n",
    "flood_images = glob.glob(os.path.join('images1/*'))\n",
    "#画像2\n",
    "other_images = glob.glob(os.path.join('images2/*'))\n",
    "\n",
    "generator = ImageDataGenerator(\n",
    "  rotation_range=90,\n",
    "  width_shift_range=0.1,\n",
    "  height_shift_range=0.1,\n",
    "  channel_shift_range=50.0,\n",
    "  shear_range=0.39,\n",
    "  horizontal_flip=True,\n",
    "  vertical_flip=True\n",
    ")\n",
    "\n",
    "create_dummy_images(generator, flood_images, output_dir_root, 'image1')\n",
    "create_dummy_images(generator, other_images, output_dir_root, 'image2')"
   ]
  },
  {
   "cell_type": "code",
   "execution_count": null,
   "metadata": {},
   "outputs": [],
   "source": []
  }
 ],
 "metadata": {
  "kernelspec": {
   "display_name": "Python 3",
   "language": "python",
   "name": "python3"
  },
  "language_info": {
   "codemirror_mode": {
    "name": "ipython",
    "version": 3
   },
   "file_extension": ".py",
   "mimetype": "text/x-python",
   "name": "python",
   "nbconvert_exporter": "python",
   "pygments_lexer": "ipython3",
   "version": "3.6.0"
  }
 },
 "nbformat": 4,
 "nbformat_minor": 2
}
